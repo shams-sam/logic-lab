{
 "cells": [
  {
   "cell_type": "code",
   "execution_count": 35,
   "metadata": {},
   "outputs": [],
   "source": [
    "def max_crossing_subarray(A, start, mid, end):\n",
    "    cstart = mid\n",
    "    clsum = -10000000\n",
    "    csum = 0\n",
    "    i = mid\n",
    "    while i >= start:\n",
    "        csum += A[i]\n",
    "        if csum > clsum:\n",
    "            clsum = csum\n",
    "            cstart = i\n",
    "        i -= 1\n",
    "    \n",
    "    cend = mid+1\n",
    "    crsum = -10000000\n",
    "    csum = 0\n",
    "    i = mid+1\n",
    "    while i <= end:\n",
    "        csum += A[i]\n",
    "        if csum > crsum:\n",
    "            crsum = csum\n",
    "            cend = i\n",
    "        i += 1\n",
    "    \n",
    "    return (cstart, cend, clsum+crsum)\n",
    "\n",
    "def max_subarray(A, start, end):\n",
    "    if start == end:\n",
    "        return (start, end, A[start])\n",
    "    else:\n",
    "        mid = start + int((end-start)/2)\n",
    "        lstart, lend, lsum = max_subarray(A, start, mid)\n",
    "        rstart, rend, rsum = max_subarray(A, mid+1, end)\n",
    "        cstart, cend, csum = max_crossing_subarray(A, start, mid, end)\n",
    "        \n",
    "        if lsum >= rsum and lsum >= csum:\n",
    "            return (lstart, lend, lsum)\n",
    "        elif rsum>=lsum and rsum>=csum:\n",
    "            return (rstart, rend, rsum)\n",
    "        else:\n",
    "            return (cstart, cend, csum)"
   ]
  },
  {
   "cell_type": "code",
   "execution_count": 63,
   "metadata": {},
   "outputs": [
    {
     "data": {
      "text/plain": [
       "(0, 0, -3)"
      ]
     },
     "execution_count": 63,
     "metadata": {},
     "output_type": "execute_result"
    }
   ],
   "source": [
    "A = [13, -3, -25, 20, -3, -16, -23, 18, 20, -7, 12, -5, -22, 15, -4, 7]\n",
    "A = [-3, -25, -3, -16, -23]\n",
    "max_subarray(A, 0, len(A)-1)"
   ]
  },
  {
   "cell_type": "code",
   "execution_count": 67,
   "metadata": {},
   "outputs": [
    {
     "name": "stdout",
     "output_type": "stream",
     "text": [
      "0 0 -3\n",
      "2 2 -3\n"
     ]
    },
    {
     "data": {
      "text/plain": [
       "(2, 2, -3)"
      ]
     },
     "execution_count": 67,
     "metadata": {},
     "output_type": "execute_result"
    }
   ],
   "source": [
    "def n2_max_subarray(A):\n",
    "    maxo = -100000000\n",
    "    s = 0\n",
    "    e = 0\n",
    "    for i in range(len(A)):\n",
    "        sumi = 0\n",
    "        for j in range(i, len(A)):\n",
    "            sumi += A[j]\n",
    "            if sumi >= maxo:\n",
    "                maxo=sumi\n",
    "                s = i\n",
    "                e = j\n",
    "    return (s, e, maxo)\n",
    "\n",
    "n2_max_subarray(A)"
   ]
  },
  {
   "cell_type": "code",
   "execution_count": 68,
   "metadata": {},
   "outputs": [],
   "source": [
    "def n_max_subarray(A):\n",
    "    maxo = -10000000\n",
    "    starto = 0\n",
    "    endo = 0\n",
    "    sumi = -10000000\n",
    "\n",
    "    for i in range(len(A)):\n",
    "        endi = i\n",
    "        if sumi > 0:\n",
    "            sumi += A[i]\n",
    "        else:\n",
    "            sumi = A[i]\n",
    "            starti = i\n",
    "        if sumi > maxo:\n",
    "            maxo = sumi\n",
    "            starto = starti\n",
    "            endo = endi\n",
    "    return (starto, endo, maxo)"
   ]
  },
  {
   "cell_type": "code",
   "execution_count": 69,
   "metadata": {},
   "outputs": [
    {
     "data": {
      "text/plain": [
       "(0, 0, -3)"
      ]
     },
     "execution_count": 69,
     "metadata": {},
     "output_type": "execute_result"
    }
   ],
   "source": [
    "n_max_subarray(A)"
   ]
  },
  {
   "cell_type": "code",
   "execution_count": null,
   "metadata": {},
   "outputs": [],
   "source": []
  }
 ],
 "metadata": {
  "kernelspec": {
   "display_name": "Python 3",
   "language": "python",
   "name": "python3"
  },
  "language_info": {
   "codemirror_mode": {
    "name": "ipython",
    "version": 3
   },
   "file_extension": ".py",
   "mimetype": "text/x-python",
   "name": "python",
   "nbconvert_exporter": "python",
   "pygments_lexer": "ipython3",
   "version": "3.6.8"
  }
 },
 "nbformat": 4,
 "nbformat_minor": 2
}
