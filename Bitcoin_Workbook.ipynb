{
 "cells": [
  {
   "cell_type": "code",
   "execution_count": null,
   "metadata": {
    "collapsed": false
   },
   "outputs": [],
   "source": [
    "import time\n",
    "import hashlib\n",
    "import json\n",
    "import matplotlib.pyplot as plt\n",
    "import pandas as pd"
   ]
  },
  {
   "cell_type": "markdown",
   "metadata": {},
   "source": [
    "# Proof of Work"
   ]
  },
  {
   "cell_type": "code",
   "execution_count": null,
   "metadata": {
    "collapsed": true
   },
   "outputs": [],
   "source": [
    "transaction = [\n",
    "    'A paid B 25 A_public_key', \n",
    "    'A paid C 50 A_public_key', \n",
    "    'C paid B 10 C_public_key'\n",
    "]\n",
    "transaction = json.dumps(transaction).encode()"
   ]
  },
  {
   "cell_type": "code",
   "execution_count": null,
   "metadata": {
    "collapsed": false
   },
   "outputs": [],
   "source": [
    "difficulty_bits = list(range(0, 8))\n",
    "time_taken = []\n",
    "for num_bits in difficulty_bits:\n",
    "    proved = False\n",
    "    proof = 0\n",
    "    start_time = time.time()\n",
    "    while not proved:\n",
    "        string = transaction + str(proof).encode()\n",
    "        current_hash = hashlib.sha256(string).hexdigest()\n",
    "        if current_hash.startswith('0'*num_bits):\n",
    "            print(current_hash)\n",
    "            print(proof)\n",
    "            proved = True\n",
    "            time_taken.append(time.time()-start_time)\n",
    "        proof = proof+1"
   ]
  },
  {
   "cell_type": "code",
   "execution_count": null,
   "metadata": {
    "collapsed": false
   },
   "outputs": [],
   "source": [
    "plt.scatter(difficulty_bits, time_taken)\n",
    "plt.xlabel('number of leading zeros')\n",
    "plt.ylabel('time taken to find proof')\n",
    "plt.show()"
   ]
  },
  {
   "cell_type": "markdown",
   "metadata": {},
   "source": [
    "# Probability of Attacker catching up with Honest Chain"
   ]
  },
  {
   "cell_type": "code",
   "execution_count": null,
   "metadata": {
    "collapsed": false
   },
   "outputs": [],
   "source": [
    "import math\n",
    "q = 0.3\n",
    "p = 1-q\n",
    "def factorial(k):\n",
    "    fac = 1\n",
    "    for _ in range(1, k+1):\n",
    "        fac *= _\n",
    "    return fac\n",
    "def calculate(z):\n",
    "    lamda = z * q/p\n",
    "    sum = 1\n",
    "    for k in range(z+1):\n",
    "        sum -= math.pow(lamda, k) * math.exp(- lamda) / factorial(k) * (1 - math.pow((q/p), z-k))\n",
    "    return sum\n",
    "\n",
    "for _ in range(0, 30, 5):\n",
    "    print(_, \"\\t=> \", round(calculate(_),8))"
   ]
  },
  {
   "cell_type": "code",
   "execution_count": null,
   "metadata": {
    "collapsed": false
   },
   "outputs": [],
   "source": [
    "round(calculate(10),8)"
   ]
  }
 ],
 "metadata": {
  "kernelspec": {
   "display_name": "Python 3",
   "language": "python",
   "name": "python3"
  },
  "language_info": {
   "codemirror_mode": {
    "name": "ipython",
    "version": 3
   },
   "file_extension": ".py",
   "mimetype": "text/x-python",
   "name": "python",
   "nbconvert_exporter": "python",
   "pygments_lexer": "ipython3",
   "version": "3.5.2"
  }
 },
 "nbformat": 4,
 "nbformat_minor": 2
}
