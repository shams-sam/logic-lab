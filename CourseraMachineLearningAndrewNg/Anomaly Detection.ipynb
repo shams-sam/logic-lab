{
 "cells": [
  {
   "cell_type": "code",
   "execution_count": null,
   "metadata": {},
   "outputs": [],
   "source": [
    "import matplotlib.pyplot as plt\n",
    "import numpy as np"
   ]
  },
  {
   "cell_type": "code",
   "execution_count": null,
   "metadata": {},
   "outputs": [],
   "source": [
    "X = np.vstack((\n",
    "    np.random.randint(5, 15, (50, 2)),\n",
    "    np.random.randint(5, 30, (4, 2)),\n",
    "))"
   ]
  },
  {
   "cell_type": "code",
   "execution_count": null,
   "metadata": {},
   "outputs": [],
   "source": [
    "data = X"
   ]
  },
  {
   "cell_type": "code",
   "execution_count": null,
   "metadata": {},
   "outputs": [],
   "source": [
    "plt.scatter(X[:50, 0], X[:50, 1], c='b')\n",
    "plt.scatter(X[50:, 0], X[50:, 1], c='r')\n",
    "plt.show()"
   ]
  },
  {
   "cell_type": "markdown",
   "metadata": {},
   "source": [
    "# Gaussian Distribution"
   ]
  },
  {
   "cell_type": "code",
   "execution_count": null,
   "metadata": {},
   "outputs": [],
   "source": [
    "data = np.random.randn(5000000)"
   ]
  },
  {
   "cell_type": "code",
   "execution_count": null,
   "metadata": {},
   "outputs": [],
   "source": [
    "n, x, _ = plt.hist(data, np.linspace(-5, 5, 500))"
   ]
  },
  {
   "cell_type": "code",
   "execution_count": null,
   "metadata": {},
   "outputs": [],
   "source": [
    "plt.figure(figsize=(20, 10))\n",
    "for mean in range(0, 3):\n",
    "    for std_dev in range(1, 4):\n",
    "        data = np.random.normal(mean,std_dev, 5000000)\n",
    "        plt.subplot(3, 3, mean*3+std_dev)\n",
    "        n, x, _ = plt.hist(data, np.linspace(-10, 10, 500))\n",
    "        plt.ylim(0, 100000)\n",
    "        plt.title('mean:' + str(mean) + \", std_dev:\" + str(std_dev))"
   ]
  },
  {
   "cell_type": "markdown",
   "metadata": {},
   "source": [
    "# Anomaly Detection Using Density Estimation"
   ]
  },
  {
   "cell_type": "code",
   "execution_count": null,
   "metadata": {},
   "outputs": [],
   "source": [
    "X_train = X[:50]\n",
    "X_test = X[50:]\n",
    "mu = 1/X_train.shape[0] * np.sum(X_train, axis=0) \n",
    "sigma_squared = 1/X_train.shape[0] * np.sum((X_train - mu) ** 2, axis=0)"
   ]
  },
  {
   "cell_type": "code",
   "execution_count": null,
   "metadata": {},
   "outputs": [],
   "source": [
    "def p(x, mu, sigma_squared):\n",
    "    return np.prod(1 / np.sqrt(2*np.pi*sigma_squared) * np.exp(-(x-mu)**2/(2*sigma_squared)), axis=1)"
   ]
  },
  {
   "cell_type": "code",
   "execution_count": null,
   "metadata": {},
   "outputs": [],
   "source": [
    "p(X_test, mu, sigma_squared)"
   ]
  },
  {
   "cell_type": "code",
   "execution_count": null,
   "metadata": {},
   "outputs": [],
   "source": [
    "X_test"
   ]
  },
  {
   "cell_type": "code",
   "execution_count": null,
   "metadata": {},
   "outputs": [],
   "source": [
    "delta = 0.025\n",
    "x = np.arange(0, 30, delta)\n",
    "y = np.arange(0, 30, delta)\n",
    "x, y = np.meshgrid(x, y)\n",
    "z = p(np.hstack((x.reshape(-1, 1), y.reshape(-1, 1))), mu, sigma_squared).reshape(x.shape)"
   ]
  },
  {
   "cell_type": "code",
   "execution_count": null,
   "metadata": {},
   "outputs": [],
   "source": [
    "plt.figure(figsize=(10, 10))\n",
    "CS = plt.contour(x, y, z)\n",
    "plt.clabel(CS, inline=1, fontsize=12)\n",
    "plt.scatter(X[:50, 0], X[:50, 1], c='b', alpha=0.7)\n",
    "plt.scatter(X[50:, 0], X[50:, 1], c='r', alpha=0.7)\n",
    "plt.xlim()"
   ]
  },
  {
   "cell_type": "markdown",
   "metadata": {},
   "source": [
    "# Multivariate Gaussian Distribution"
   ]
  },
  {
   "cell_type": "code",
   "execution_count": null,
   "metadata": {},
   "outputs": [],
   "source": [
    "X = np.zeros((50, 2))\n",
    "X[:10, 0] = np.linspace(0, 20, 10)\n",
    "X[10:40, 0] = np.linspace(20, 30, 30)\n",
    "X[40:, 0] = np.linspace(30, 50, 10)\n",
    "X[:, 1] = -3 * X[:, 0] + 20 * np.random.randn(50,)\n",
    "X_test = np.array([\n",
    "    [10., -100.],\n",
    "    [40., -40.]\n",
    "])"
   ]
  },
  {
   "cell_type": "code",
   "execution_count": null,
   "metadata": {},
   "outputs": [],
   "source": [
    "def normalize(X):\n",
    "    X_mean = X.mean(axis=0)\n",
    "    X_std_dev = X.std(axis=0)\n",
    "    return (X-X_mean)/X_std_dev"
   ]
  },
  {
   "cell_type": "code",
   "execution_count": null,
   "metadata": {},
   "outputs": [],
   "source": [
    "X = normalize(X)\n",
    "X_test = normalize(X_test)"
   ]
  },
  {
   "cell_type": "code",
   "execution_count": null,
   "metadata": {},
   "outputs": [],
   "source": [
    "plt.scatter(X[:, 0], X[:, 1], c='b')\n",
    "plt.scatter(X_test[:, 0], X_test[:, 1], c='r')\n",
    "plt.axis('scaled')\n",
    "plt.show()"
   ]
  },
  {
   "cell_type": "code",
   "execution_count": null,
   "metadata": {},
   "outputs": [],
   "source": [
    "mu = X.mean(axis=0)\n",
    "sigma = X.std(axis=0)\n",
    "p(X_test, mu, sigma)"
   ]
  },
  {
   "cell_type": "code",
   "execution_count": null,
   "metadata": {},
   "outputs": [],
   "source": [
    "delta = 0.025\n",
    "x = np.arange(-3, 3, delta)\n",
    "y = np.arange(-3, 3, delta)\n",
    "x, y = np.meshgrid(x, y)\n",
    "z = p(np.hstack((x.reshape(-1, 1), y.reshape(-1, 1))), mu, sigma_squared).reshape(x.shape)\n",
    "\n",
    "plt.figure(figsize=(7, 7))\n",
    "CS = plt.contour(x, y, z)\n",
    "plt.clabel(CS, inline=1, fontsize=12)\n",
    "plt.scatter(X[:, 0], X[:, 1], c='b', alpha=0.7)\n",
    "plt.scatter(X_test[:, 0], X_test[:, 1], c='r')\n",
    "plt.axis('scaled')\n",
    "plt.show()"
   ]
  },
  {
   "cell_type": "code",
   "execution_count": null,
   "metadata": {},
   "outputs": [],
   "source": [
    "mu_mv = 1/X.shape[0] * np.sum(X, axis=0) \n",
    "sigma_mv = 1/X.shape[0] * np.matmul((X - mu_mv).transpose(), (X-mu_mv))\n",
    "\n",
    "def p_mv(x, mu, sigma):\n",
    "    res = []\n",
    "    for x_i in x:\n",
    "        res.append(1 / (2 * np.pi ** (x.shape[1]/2)) / np.sqrt(np.linalg.det(sigma_mv)) *np.exp(-0.5 * np.dot(x_i-mu, np.dot(np.linalg.pinv(sigma), (x_i-mu).transpose()))))\n",
    "    return np.array(res)\n",
    "\n",
    "p_mv(X_test, mu_mv, sigma_mv)"
   ]
  },
  {
   "cell_type": "code",
   "execution_count": null,
   "metadata": {},
   "outputs": [],
   "source": [
    "plt.figure(figsize=(15, 7))\n",
    "\n",
    "delta = 0.025\n",
    "x = np.arange(-3, 3, delta)\n",
    "y = np.arange(-3, 3, delta)\n",
    "x, y = np.meshgrid(x, y)\n",
    "z = p(np.hstack((x.reshape(-1, 1), y.reshape(-1, 1))), mu, sigma_squared).reshape(x.shape)\n",
    "\n",
    "plt.subplot(1, 2, 1)\n",
    "CS = plt.contour(x, y, z)\n",
    "plt.clabel(CS, inline=1, fontsize=12)\n",
    "plt.scatter(X[:, 0], X[:, 1], c='b', alpha=0.7)\n",
    "plt.scatter(X_test[:, 0], X_test[:, 1], c='r')\n",
    "plt.axis('scaled')\n",
    "plt.title('univariate gaussian distribution')\n",
    "\n",
    "delta = 0.025\n",
    "x = np.arange(-3, 3, delta)\n",
    "y = np.arange(-3, 3, delta)\n",
    "x, y = np.meshgrid(x, y)\n",
    "z = p_mv(np.hstack((x.reshape(-1, 1), y.reshape(-1, 1))), mu_mv, sigma_mv).reshape(x.shape)\n",
    "\n",
    "plt.subplot(1, 2, 2)\n",
    "CS = plt.contour(x, y, z)\n",
    "plt.clabel(CS, inline=1, fontsize=12)\n",
    "plt.scatter(X[:, 0], X[:, 1], c='b', alpha=0.7)\n",
    "plt.scatter(X_test[:, 0], X_test[:, 1], c='r')\n",
    "plt.axis('scaled')\n",
    "plt.title('multivariate gaussian distribution')\n",
    "plt.show()"
   ]
  },
  {
   "cell_type": "code",
   "execution_count": null,
   "metadata": {},
   "outputs": [],
   "source": [
    "from scipy.stats import multivariate_normal\n",
    "\n",
    "mu_np = np.mean(X, axis=0)\n",
    "sigma_np = np.cov(X.T)\n",
    "p_np = multivariate_normal(mean=mu_np, cov=sigma_np)\n",
    "p_np.pdf(X_test)"
   ]
  },
  {
   "cell_type": "code",
   "execution_count": null,
   "metadata": {},
   "outputs": [],
   "source": [
    "delta = 0.025\n",
    "x = np.arange(-3, 3, delta)\n",
    "y = np.arange(-3, 3, delta)\n",
    "x, y = np.meshgrid(x, y)\n",
    "z = p_np.pdf(np.hstack((x.reshape(-1, 1), y.reshape(-1, 1)))).reshape(x.shape)\n",
    "\n",
    "plt.figure(figsize=(7, 7))\n",
    "CS = plt.contour(x, y, z)\n",
    "plt.clabel(CS, inline=1, fontsize=12)\n",
    "plt.scatter(X[:, 0], X[:, 1], c='b', alpha=0.7)\n",
    "plt.scatter(X_test[:, 0], X_test[:, 1], c='r')\n",
    "plt.axis('scaled')\n",
    "plt.show()"
   ]
  },
  {
   "cell_type": "markdown",
   "metadata": {},
   "source": [
    "# effect of covariance matrix"
   ]
  },
  {
   "cell_type": "code",
   "execution_count": null,
   "metadata": {},
   "outputs": [],
   "source": [
    "def data(mu, sigma):\n",
    "    delta = 0.025\n",
    "    x = np.arange(-3, 3, delta)\n",
    "    y = np.arange(-3, 3, delta)\n",
    "    x, y = np.meshgrid(x, y)\n",
    "    p_np = multivariate_normal(mean=mu, cov=sigma)\n",
    "    z = p_np.pdf(np.hstack((x.reshape(-1, 1), y.reshape(-1, 1)))).reshape(x.shape)\n",
    "    return x, y, z\n",
    "\n",
    "def plot(mu, sigma):\n",
    "    x, y, z = data(mu, sigma)\n",
    "    CS = plt.contour(x, y, z)\n",
    "    plt.axis('scaled')"
   ]
  },
  {
   "cell_type": "code",
   "execution_count": null,
   "metadata": {},
   "outputs": [],
   "source": [
    "plt.figure(figsize=(15, 15))\n",
    "\n",
    "mu = np.array([0, 0])\n",
    "sigma = np.array([[1, 0], [0, 1]])\n",
    "plt.subplot(3, 3, 1)\n",
    "plot(mu, sigma)\n",
    "plt.title('mu = np.array([0, 0]) \\n sigma = np.array([[1, 0], [0, 1]])')\n",
    "\n",
    "mu = np.array([0, 0])\n",
    "sigma = np.array([[2, 0], [0, 2]])\n",
    "plt.subplot(3, 3, 2)\n",
    "plot(mu, sigma)\n",
    "plt.title('mu = np.array([0, 0]) \\n sigma = np.array([[2, 0], [0, 2]])')\n",
    "\n",
    "mu = np.array([0, 0])\n",
    "sigma = np.array([[0.5, 0], [0, 0.5]])\n",
    "plt.subplot(3, 3, 3)\n",
    "plot(mu, sigma)\n",
    "plt.title('mu = np.array([0, 0]) \\n sigma = np.array([[0.5, 0], [0, 0.5]])')\n",
    "\n",
    "mu = np.array([0, 1])\n",
    "sigma = np.array([[1, 0], [0, 1]])\n",
    "plt.subplot(3, 3, 4)\n",
    "plot(mu, sigma)\n",
    "plt.title('mu = np.array([0, 1]) \\n sigma = np.array([[1, 0], [0, 1]])')\n",
    "\n",
    "mu = np.array([1, 0])\n",
    "sigma = np.array([[2, 0], [0, 2]])\n",
    "plt.subplot(3, 3, 5)\n",
    "plot(mu, sigma)\n",
    "plt.title('mu = np.array([1, 0]) \\n sigma = np.array([[2, 0], [0, 2]])')\n",
    "\n",
    "mu = np.array([1, 2])\n",
    "sigma = np.array([[0.5, 0], [0, 0.5]])\n",
    "plt.subplot(3, 3, 6)\n",
    "plot(mu, sigma)\n",
    "plt.title('mu = np.array([1, 2]) \\n sigma = np.array([[0.5, 0], [0, 0.5]])')\n",
    "\n",
    "mu = np.array([0, 0])\n",
    "sigma = np.array([[1, 0.5], [0.5, 1]])\n",
    "plt.subplot(3, 3, 7)\n",
    "plot(mu, sigma)\n",
    "plt.title('mu = np.array([0, 0]) \\n sigma = np.array([[1, 0.5], [0.5, 1]])')\n",
    "\n",
    "mu = np.array([0, 0])\n",
    "sigma = np.array([[2, -1], [-1.5, 2]])\n",
    "plt.subplot(3, 3, 8)\n",
    "plot(mu, sigma)\n",
    "plt.title('mu = np.array([0, 0] \\n sigma = np.array([[2, -1], [-1.5, 2]])')\n",
    "\n",
    "mu = np.array([0, 0])\n",
    "sigma = np.array([[2, -1.5], [-1.5, 2]])\n",
    "plt.subplot(3, 3, 9)\n",
    "plot(mu, sigma)\n",
    "plt.title('mu = np.array([0, 0] \\n sigma = np.array([[2, -1.5], [-1.5, 2]])')\n",
    "\n",
    "plt.show()"
   ]
  }
 ],
 "metadata": {
  "kernelspec": {
   "display_name": "Python 3",
   "language": "python",
   "name": "python3"
  },
  "language_info": {
   "codemirror_mode": {
    "name": "ipython",
    "version": 3
   },
   "file_extension": ".py",
   "mimetype": "text/x-python",
   "name": "python",
   "nbconvert_exporter": "python",
   "pygments_lexer": "ipython3",
   "version": "3.6.3"
  }
 },
 "nbformat": 4,
 "nbformat_minor": 2
}
