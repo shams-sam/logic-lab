{
 "cells": [
  {
   "cell_type": "code",
   "execution_count": null,
   "metadata": {
    "collapsed": false,
    "deletable": true,
    "editable": true
   },
   "outputs": [],
   "source": [
    "import numpy as np\n",
    "x = np.atleast_2d([1, 2, 3, 4, 5, 6, 7, 8]).T\n",
    "y = np.atleast_2d([0, 0, 0, 0, 1, 1, 1, 1]).T\n",
    "\n",
    "mul = np.matmul\n",
    "inv = np.linalg.inv\n",
    "X = np.hstack((np.atleast_2d(np.ones(x.shape[0])).T, x))\n",
    "\n",
    "import matplotlib.pyplot as plt\n",
    "plt.plot(x[:4], y[:4], 'rx')\n",
    "plt.plot(x[4:], y[4:], 'ro')\n",
    "theta = mul(mul(inv(mul(X.T, X)), X.T), y)\n",
    "y1 = mul(X, theta)\n",
    "plt.plot(x, y1, 'r')\n",
    "plt.plot(12, 1, 'bo')\n",
    "x = np.atleast_2d([1, 2, 3, 4, 5, 6, 7, 8, 12]).T\n",
    "y = np.atleast_2d([0, 0, 0, 0, 1, 1, 1, 1, 1]).T\n",
    "X = np.hstack((np.atleast_2d(np.ones(x.shape[0])).T, x))\n",
    "theta = mul(mul(inv(mul(X.T, X)), X.T), y)\n",
    "y1 = mul(X, theta)\n",
    "plt.plot(x, y1, 'b')\n",
    "plt.xlabel('x')\n",
    "plt.ylabel('y')\n",
    "plt.title('Fitting Regression Curve for Classification')\n",
    "plt.show()"
   ]
  },
  {
   "cell_type": "code",
   "execution_count": null,
   "metadata": {
    "collapsed": false,
    "deletable": true,
    "editable": true
   },
   "outputs": [],
   "source": [
    "import math\n",
    "x = np.array(range(-10000, 10000))/1000\n",
    "y = [1/(1+math.exp(-i)) for i in x]\n",
    "\n",
    "plt.title('Sigmoid Function')\n",
    "plt.plot(x, y)\n",
    "plt.show()"
   ]
  },
  {
   "cell_type": "code",
   "execution_count": null,
   "metadata": {
    "collapsed": false,
    "deletable": true,
    "editable": true
   },
   "outputs": [],
   "source": [
    "x = [0, 1, 2, 3, 4, 5, 6, 7, 8, 9, 10, 11, 12]\n",
    "y = [3 ,3, 2, 1, 5, 6, 4, 7, 9, 10, 12, 8, 11]\n",
    "plt.plot(x[:7], y[:7], 'ro')\n",
    "plt.plot(x[7:], y[7:], 'rx')\n",
    "y1= [12-i for i in x]\n",
    "plt.plot(x, y1, 'b')\n",
    "plt.title('Decision Boundary')\n",
    "d = np.zeros(len(y1))\n",
    "plt.fill_between(x, y1, where=y1>=d, interpolate=True, color='yellow')\n",
    "plt.fill_between(x, y, where=y<=d, interpolate=True, color='red')\n",
    "plt.show()"
   ]
  },
  {
   "cell_type": "code",
   "execution_count": null,
   "metadata": {
    "collapsed": false,
    "deletable": true,
    "editable": true
   },
   "outputs": [],
   "source": [
    "x = np.array(range(-100,101))/100\n",
    "y = [math.sqrt(1-(i*i)) for i in x.tolist()]\n",
    "y1 = [-math.sqrt(1-(i*i)) for i in x.tolist()]\n",
    "plt.plot(x, y, 'b')\n",
    "plt.axis('equal')\n",
    "plt.plot(x, y1, 'b')\n",
    "plt.show()"
   ]
  },
  {
   "cell_type": "code",
   "execution_count": null,
   "metadata": {
    "collapsed": false,
    "deletable": true,
    "editable": true
   },
   "outputs": [],
   "source": [
    "import numpy as np\n",
    "import math\n",
    "x = np.array([-20, -5, -1,  10, -50, -10, 2, -3, 4, 1]).T\n",
    "y = np.array([-1, 3, -2,  3, 4, -5, 1, 3, -4, 1]).T"
   ]
  },
  {
   "cell_type": "code",
   "execution_count": null,
   "metadata": {
    "collapsed": false,
    "deletable": true,
    "editable": true
   },
   "outputs": [],
   "source": [
    "mul = np.matmul\n",
    "\n",
    "def j(x, y, theta):\n",
    "    h = x*theta\n",
    "    h = 1 / (1 + np.exp(-h))\n",
    "    d = h - y\n",
    "    s = mul(d.T, d)\n",
    "    return s/(len(x)*2)\n",
    "\n",
    "theta = (np.array(range(-100, 100))/100).tolist()\n",
    "cost_list = [j(x, y, i) for i in theta]"
   ]
  },
  {
   "cell_type": "code",
   "execution_count": null,
   "metadata": {
    "collapsed": false,
    "deletable": true,
    "editable": true
   },
   "outputs": [],
   "source": [
    "import matplotlib.pyplot as plt\n",
    "plt.plot(theta, cost_list)\n",
    "plt.show()"
   ]
  },
  {
   "cell_type": "code",
   "execution_count": null,
   "metadata": {
    "collapsed": false,
    "deletable": true,
    "editable": true
   },
   "outputs": [],
   "source": [
    "import numpy as np\n",
    "import matplotlib.pyplot as plt\n",
    "\n",
    "plt.figure(figsize=(10, 5))\n",
    "x = np.array(range(-200, 300))/100\n",
    "fig, ax = plt.subplots()\n",
    "ax.plot(x, np.log(1-x))\n",
    "ax.plot(x, -np.log(1-x))\n",
    "ax.plot(x, np.log(x))\n",
    "ax.plot(x, -np.log(x))\n",
    "# ax.set_aspect('equal')\n",
    "# ax.grid(True, which='both')\n",
    "\n",
    "# set the x-spine (see below for more info on `set_position`)\n",
    "ax.spines['left'].set_position('zero')\n",
    "\n",
    "# turn off the right spine/ticks\n",
    "ax.spines['right'].set_color('none')\n",
    "ax.yaxis.tick_left()\n",
    "\n",
    "# set the y-spine\n",
    "ax.spines['bottom'].set_position('zero')\n",
    "\n",
    "# turn off the top spine/ticks\n",
    "ax.spines['top'].set_color('none')\n",
    "ax.xaxis.tick_bottom()\n",
    "plt.show()"
   ]
  },
  {
   "cell_type": "code",
   "execution_count": null,
   "metadata": {
    "collapsed": false,
    "deletable": true,
    "editable": true
   },
   "outputs": [],
   "source": [
    "import math\n",
    "import numpy as np\n",
    "import matplotlib.pyplot as plt\n",
    "x = []\n",
    "y = []\n",
    "for _ in range(30):\n",
    "    i = np.random.rand()\n",
    "    x.append(i)\n",
    "    y.append(round(i))\n",
    "x.append(0)\n",
    "y.append(1)\n",
    "x = np.atleast_2d(x).T\n",
    "y = np.atleast_2d(y).T\n",
    "plt.scatter(x[np.where(y==1)], y[np.where(y==1)])\n",
    "plt.scatter(x[np.where(y==0)], y[np.where(y==0)])\n",
    "\n",
    "theta = np.random.randint(1, 100, size=(2, 1))/ 1000000\n",
    "theta = np.array([[0.5], [0]])\n",
    "mul = np.matmul\n",
    "alpha = 0.6\n",
    "m = len(x)\n",
    "X = np.hstack((np.ones((len(x), 1)), x))\n",
    "\n",
    "def h(X, theta):\n",
    "    return 1 / (1 + np.exp(-mul(X, theta)))\n",
    "\n",
    "def j(X, y, theta):\n",
    "    return (-1/m) * (mul(y.T, np.log(h(X, theta))) + mul((1-y).T, np.log(1-h(X, theta))))\n",
    "\n",
    "def update(X, y, theta):\n",
    "    return theta - (alpha/m * mul(X.T, (h(X, theta) - y)))\n",
    "\n",
    "prev_j = 10000\n",
    "curr_j = j(X, y, theta)\n",
    "tolerance = 0.000001\n",
    "theta_history = [theta]\n",
    "cost_history = [curr_j]\n",
    "\n",
    "while(abs(curr_j - prev_j) > tolerance):\n",
    "    theta = update(X, y, theta)\n",
    "    theta_history.append(theta)\n",
    "    prev_j = curr_j\n",
    "    curr_j = j(X, y, theta)\n",
    "    cost_history.append(curr_j[0][0])\n",
    "print(curr_j[0][0])\n",
    "\n",
    "plt.plot(x, mul(X, theta))\n",
    "plt.show()"
   ]
  },
  {
   "cell_type": "code",
   "execution_count": null,
   "metadata": {
    "collapsed": false
   },
   "outputs": [],
   "source": [
    "nb_of_ws = 100 # compute the cost nb_of_ws times in each dimension\n",
    "ws1 = np.linspace(-20, 10, num=nb_of_ws) # weight 1\n",
    "ws2 = np.linspace(-15, 25, num=nb_of_ws) # weight 2\n",
    "ws_x, ws_y = np.meshgrid(ws1, ws2) # generate grid\n",
    "cost_ws = np.zeros((nb_of_ws, nb_of_ws)) # initialize cost matrix\n",
    "# Fill the cost matrix for each combination of weights\n",
    "for ii in range(nb_of_ws):\n",
    "    for jj in range(nb_of_ws):\n",
    "        cost_ws[ii,jj] = j(X, y, np.atleast_2d([ws_x[ii, jj], ws_y[ii, jj]]).T)\n",
    "# Plot the cost function surface\n",
    "plt.contourf(ws_x, ws_y, cost_ws, 20, cmap=cm.pink)\n",
    "cbar = plt.colorbar()\n",
    "plt.title('Cost function surface')\n",
    "count = 0\n",
    "xx = []\n",
    "yy = []\n",
    "for i in theta_history[:: 250]:\n",
    "    xx.append(i[0, 0])\n",
    "    yy.append(i[1, 0])\n",
    "plt.plot(xx, yy, 'wo')\n",
    "plt.grid()\n",
    "plt.show()"
   ]
  },
  {
   "cell_type": "code",
   "execution_count": null,
   "metadata": {
    "collapsed": false,
    "deletable": true,
    "editable": true
   },
   "outputs": [],
   "source": [
    "np.hstack((h(X, np.array([[0.5], [0]])), h(X, theta)))"
   ]
  },
  {
   "cell_type": "code",
   "execution_count": null,
   "metadata": {
    "collapsed": false
   },
   "outputs": [],
   "source": [
    "j(X, y , np.array([[0.5], [0]]))"
   ]
  },
  {
   "cell_type": "code",
   "execution_count": null,
   "metadata": {
    "collapsed": false
   },
   "outputs": [],
   "source": [
    "j(X, y , theta)"
   ]
  },
  {
   "cell_type": "code",
   "execution_count": null,
   "metadata": {
    "collapsed": false,
    "deletable": true,
    "editable": true
   },
   "outputs": [],
   "source": [
    "plt.plot(range(len(cost_history)), cost_history)\n",
    "plt.title('Cost vs Epochs')\n",
    "plt.show()"
   ]
  },
  {
   "cell_type": "code",
   "execution_count": null,
   "metadata": {
    "collapsed": false,
    "deletable": true,
    "editable": true
   },
   "outputs": [],
   "source": [
    "from matplotlib.animation import FuncAnimation\n",
    "from IPython.core.display import display, HTML\n",
    "fig, ax = plt.subplots()\n",
    "plt.scatter(x[np.where(y==1)], y[np.where(y==1)])\n",
    "plt.scatter(x[np.where(y==0)], y[np.where(y==0)])\n",
    "ln, = plt.plot(x, y, 'r--', animated=True, label='h(x)')\n",
    "plt.title('Parameter Optimization with Feature scaling')\n",
    "\n",
    "def init():\n",
    "    ax.set_xlim(0, 1)\n",
    "    ax.set_ylim(-10, 10)\n",
    "    ax.set_xlabel('x')\n",
    "    ax.set_ylabel('y')\n",
    "    plt.legend(handles=[ln])\n",
    "    return ln,\n",
    "\n",
    "def update_frame(frame):\n",
    "    theta = frame\n",
    "    ln.set_data(x, mul(X, theta))\n",
    "    return ln,\n",
    "\n",
    "def data_gen():\n",
    "    for i in theta_history[::100]:\n",
    "        yield i\n",
    "\n",
    "ani = FuncAnimation(fig, update_frame, frames=data_gen(),\n",
    "                    init_func=init, blit=False, interval=100)\n",
    "display(HTML(ani.to_html5_video()))"
   ]
  },
  {
   "cell_type": "code",
   "execution_count": null,
   "metadata": {
    "collapsed": false,
    "deletable": true,
    "editable": true
   },
   "outputs": [],
   "source": [
    "import math\n",
    "import numpy as np\n",
    "import matplotlib.pyplot as plt\n",
    "x = np.array([\n",
    "    [0,0], [0,1], [0, -1], [1, 0], [-1, 0],\n",
    "    [0,2], [0, -2], [2, 0], [-2, 0]\n",
    "])\n",
    "y = np.atleast_2d([0, 0, 0, 0, 0, 1, 1, 1, 1]).T\n",
    "plt.scatter(x[np.where(y==1),0], x[np.where(y==1), 1])\n",
    "plt.scatter(x[np.where(y==0),0], x[np.where(y==0), 1])\n",
    "\n",
    "theta = np.random.randint(1, 100, size=(5, 1))/ 100\n",
    "mul = np.matmul\n",
    "alpha = 0.1\n",
    "m = len(x)\n",
    "X = np.hstack((np.ones((len(x), 1)), x, np.power(x,2)))\n",
    "\n",
    "def h(X, theta):\n",
    "    return 1 / (1 + np.exp(-mul(X, theta)))\n",
    "\n",
    "def j(X, y, theta):\n",
    "    return (-1/m) * (mul(y.T, np.log(h(X, theta))) + mul((1-y).T, np.log(1-h(X, theta))))\n",
    "\n",
    "def update(X, y, theta):\n",
    "    return theta - (alpha/m * mul(X.T, (h(X, theta) - y)))\n",
    "\n",
    "prev_j = 10000\n",
    "curr_j = j(X, y, theta)\n",
    "tolerance = 0.000001\n",
    "theta_history = [theta]\n",
    "cost_history = [curr_j]\n",
    "\n",
    "while(abs(curr_j - prev_j) > tolerance):\n",
    "    theta = update(X, y, theta)\n",
    "    theta_history.append(theta)\n",
    "    prev_j = curr_j\n",
    "    curr_j = j(X, y, theta)\n",
    "    cost_history.append(curr_j[0][0])\n",
    "print(\"Regression stopped with error: %.2f\" % curr_j[0][0])\n",
    "x = np.array(range(-1534,1535))/1000\n",
    "y1 = [math.sqrt((-theta[0]-(theta[3]*i*i))/theta[4]) for i in x.tolist()]\n",
    "y2 = [-math.sqrt((-theta[0]-(theta[3]*i*i))/theta[4]) for i in x.tolist()]\n",
    "plt.plot(x, y1, 'b')\n",
    "plt.axis('equal')\n",
    "plt.plot(x, y2, 'b')\n",
    "plt.title('Non-Linear Decision Boundary')\n",
    "plt.show()"
   ]
  },
  {
   "cell_type": "code",
   "execution_count": null,
   "metadata": {
    "collapsed": false,
    "deletable": true,
    "editable": true
   },
   "outputs": [],
   "source": [
    "plt.plot(range(len(cost_history)), cost_history)\n",
    "plt.title('Cost vs Epochs')\n",
    "plt.show()"
   ]
  },
  {
   "cell_type": "code",
   "execution_count": null,
   "metadata": {
    "collapsed": true,
    "deletable": true,
    "editable": true
   },
   "outputs": [],
   "source": []
  }
 ],
 "metadata": {
  "kernelspec": {
   "display_name": "Python 3",
   "language": "python",
   "name": "python3"
  },
  "language_info": {
   "codemirror_mode": {
    "name": "ipython",
    "version": 3
   },
   "file_extension": ".py",
   "mimetype": "text/x-python",
   "name": "python",
   "nbconvert_exporter": "python",
   "pygments_lexer": "ipython3",
   "version": "3.5.2"
  }
 },
 "nbformat": 4,
 "nbformat_minor": 2
}
