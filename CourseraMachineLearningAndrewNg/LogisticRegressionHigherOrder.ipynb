{
 "cells": [
  {
   "cell_type": "code",
   "execution_count": null,
   "metadata": {
    "collapsed": true,
    "deletable": true,
    "editable": true
   },
   "outputs": [],
   "source": [
    "import matplotlib.pyplot as plt\n",
    "import numpy as np\n",
    "import pandas as pd\n",
    "import math"
   ]
  },
  {
   "cell_type": "code",
   "execution_count": null,
   "metadata": {
    "collapsed": false,
    "deletable": true,
    "editable": true
   },
   "outputs": [],
   "source": [
    "X = []\n",
    "y = []\n",
    "df_X = pd.DataFrame.from_csv('logistic_regression_data_2.csv', index_col=None, header=None)\n",
    "df_X.columns = ['x_1', 'x_2', 'y']\n",
    "for i, row in df_X.iterrows():\n",
    "    X.append([row.x_1, row.x_2])\n",
    "    y.append(row.y)"
   ]
  },
  {
   "cell_type": "code",
   "execution_count": null,
   "metadata": {
    "collapsed": true,
    "deletable": true,
    "editable": true
   },
   "outputs": [],
   "source": [
    "X = np.atleast_2d(X)\n",
    "y = np.atleast_2d(y).T"
   ]
  },
  {
   "cell_type": "code",
   "execution_count": null,
   "metadata": {
    "collapsed": false,
    "deletable": true,
    "editable": true
   },
   "outputs": [],
   "source": [
    "plt.scatter(X[np.where(y==0), 0], X[np.where(y==0), 1])\n",
    "plt.scatter(X[np.where(y==1), 0], X[np.where(y==1), 1])\n",
    "plt.axis('equal')\n",
    "plt.show()"
   ]
  },
  {
   "cell_type": "code",
   "execution_count": null,
   "metadata": {
    "collapsed": false,
    "deletable": true,
    "editable": true,
    "scrolled": true
   },
   "outputs": [],
   "source": [
    "mul = np.matmul\n",
    "\n",
    "def tranformX(X, norm=True):\n",
    "    X = np.hstack((\n",
    "        np.ones((X.shape[0], 1)),\n",
    "        X,\n",
    "        np.power(X, 2),\n",
    "        np.atleast_2d(X[:, 0]*X[:, 1]).T,\n",
    "        np.power(X, 3),\n",
    "        np.atleast_2d(X[:, 0]*X[:, 0]*X[:, 1]).T,\n",
    "        np.atleast_2d(X[:, 0]*X[:, 1]*X[:, 1]).T,\n",
    "        np.power(X, 4),\n",
    "        np.atleast_2d(X[:, 0]*X[:, 0]*X[:, 0]*X[:, 1]).T,\n",
    "        np.atleast_2d(X[:, 0]*X[:, 0]*X[:, 1]*X[:, 1]).T,\n",
    "        np.atleast_2d(X[:, 0]*X[:, 1]*X[:, 1]*X[:, 1]).T,\n",
    "        np.power(X, 5),\n",
    "        np.atleast_2d(X[:, 0]*X[:, 0]*X[:, 0]*X[:, 0]*X[:, 1]).T,\n",
    "        np.atleast_2d(X[:, 0]*X[:, 0]*X[:, 0]*X[:, 1]*X[:, 1]).T,\n",
    "        np.atleast_2d(X[:, 0]*X[:, 0]*X[:, 1]*X[:, 1]*X[:, 1]).T,\n",
    "        np.atleast_2d(X[:, 0]*X[:, 1]*X[:, 1]*X[:, 1]*X[:, 1]).T,\n",
    "        np.power(X, 6),\n",
    "        np.atleast_2d(X[:, 0]*X[:, 0]*X[:, 0]*X[:, 0]*X[:, 0]*X[:, 1]).T,\n",
    "        np.atleast_2d(X[:, 0]*X[:, 0]*X[:, 0]*X[:, 0]*X[:, 1]*X[:, 1]).T,\n",
    "        np.atleast_2d(X[:, 0]*X[:, 0]*X[:, 0]*X[:, 1]*X[:, 1]*X[:, 1]).T,\n",
    "        np.atleast_2d(X[:, 0]*X[:, 0]*X[:, 1]*X[:, 1]*X[:, 1]*X[:, 1]).T,\n",
    "        np.atleast_2d(X[:, 0]*X[:, 1]*X[:, 1]*X[:, 1]*X[:, 1]*X[:, 1]).T,\n",
    "        np.power(X, 7),\n",
    "        np.atleast_2d(X[:, 0]*X[:, 0]*X[:, 0]*X[:, 0]*X[:, 0]*X[:, 0]*X[:, 1]).T,\n",
    "        np.atleast_2d(X[:, 0]*X[:, 0]*X[:, 0]*X[:, 0]*X[:, 0]*X[:, 1]*X[:, 1]).T,\n",
    "        np.atleast_2d(X[:, 0]*X[:, 0]*X[:, 0]*X[:, 0]*X[:, 1]*X[:, 1]*X[:, 1]).T,\n",
    "        np.atleast_2d(X[:, 0]*X[:, 0]*X[:, 0]*X[:, 1]*X[:, 1]*X[:, 1]*X[:, 1]).T,\n",
    "        np.atleast_2d(X[:, 0]*X[:, 0]*X[:, 1]*X[:, 1]*X[:, 1]*X[:, 1]*X[:, 1]).T,\n",
    "        np.atleast_2d(X[:, 0]*X[:, 1]*X[:, 1]*X[:, 1]*X[:, 1]*X[:, 1]*X[:, 1]).T,\n",
    "        np.power(X, 8),\n",
    "        np.atleast_2d(X[:, 0]*X[:, 0]*X[:, 0]*X[:, 0]*X[:, 0]*X[:, 0]*X[:, 0]*X[:, 1]).T,\n",
    "        np.atleast_2d(X[:, 0]*X[:, 0]*X[:, 0]*X[:, 0]*X[:, 0]*X[:, 0]*X[:, 1]*X[:, 1]).T,\n",
    "        np.atleast_2d(X[:, 0]*X[:, 0]*X[:, 0]*X[:, 0]*X[:, 0]*X[:, 1]*X[:, 1]*X[:, 1]).T,\n",
    "        np.atleast_2d(X[:, 0]*X[:, 0]*X[:, 0]*X[:, 0]*X[:, 1]*X[:, 1]*X[:, 1]*X[:, 1]).T,\n",
    "        np.atleast_2d(X[:, 0]*X[:, 0]*X[:, 0]*X[:, 1]*X[:, 1]*X[:, 1]*X[:, 1]*X[:, 1]).T,\n",
    "        np.atleast_2d(X[:, 0]*X[:, 0]*X[:, 1]*X[:, 1]*X[:, 1]*X[:, 1]*X[:, 1]*X[:, 1]).T,\n",
    "        np.atleast_2d(X[:, 0]*X[:, 1]*X[:, 1]*X[:, 1]*X[:, 1]*X[:, 1]*X[:, 1]*X[:, 1]).T,\n",
    "        np.power(X, 9),\n",
    "        np.atleast_2d(X[:, 0]*X[:, 0]*X[:, 0]*X[:, 0]*X[:, 0]*X[:, 0]*X[:, 0]*X[:, 0]*X[:, 1]).T,\n",
    "        np.atleast_2d(X[:, 0]*X[:, 0]*X[:, 0]*X[:, 0]*X[:, 0]*X[:, 0]*X[:, 0]*X[:, 1]*X[:, 1]).T,\n",
    "        np.atleast_2d(X[:, 0]*X[:, 0]*X[:, 0]*X[:, 0]*X[:, 0]*X[:, 0]*X[:, 1]*X[:, 1]*X[:, 1]).T,\n",
    "        np.atleast_2d(X[:, 0]*X[:, 0]*X[:, 0]*X[:, 0]*X[:, 0]*X[:, 1]*X[:, 1]*X[:, 1]*X[:, 1]).T,\n",
    "        np.atleast_2d(X[:, 0]*X[:, 0]*X[:, 0]*X[:, 0]*X[:, 1]*X[:, 1]*X[:, 1]*X[:, 1]*X[:, 1]).T,\n",
    "        np.atleast_2d(X[:, 0]*X[:, 0]*X[:, 0]*X[:, 1]*X[:, 1]*X[:, 1]*X[:, 1]*X[:, 1]*X[:, 1]).T,\n",
    "        np.atleast_2d(X[:, 0]*X[:, 0]*X[:, 1]*X[:, 1]*X[:, 1]*X[:, 1]*X[:, 1]*X[:, 1]*X[:, 1]).T,\n",
    "        np.atleast_2d(X[:, 0]*X[:, 1]*X[:, 1]*X[:, 1]*X[:, 1]*X[:, 1]*X[:, 1]*X[:, 1]*X[:, 1]).T,\n",
    "    ))\n",
    "    return X\n",
    "\n",
    "def init_theta(X):\n",
    "    return np.zeros((X.shape[1], 1))\n",
    "\n",
    "def sigmoid(X):\n",
    "    return np.power(1 + np.exp(-X), -1)\n",
    "\n",
    "def h(X, theta):\n",
    "    return sigmoid(mul(X, theta))\n",
    "\n",
    "def j(theta, X, y, lamda=None):\n",
    "    m = X.shape[0]\n",
    "    theta[0] = 0\n",
    "    if lamda:\n",
    "        return (-(1/m) * (mul(y.T, np.log(h(X, theta))) + mul((1-y).T, np.log(1 - h(X, theta)))) + (lamda/(2*m))*mul(theta.T, theta))[0][0] \n",
    "    return -(1/m) * (mul(y.T, np.log(h(X, theta))) + mul((1-y).T, np.log(1 - h(X, theta))))[0][0]\n",
    "\n",
    "def j_prime(theta, X, y, lamda=None):\n",
    "    m = X.shape[0]\n",
    "    theta[0] = 0\n",
    "    if lamda:\n",
    "        return (1/m) * mul(X.T, (h(X, theta) - y)) + (lamda/m) * theta \n",
    "    return (1/m) * mul(X.T, (h(X, theta) - y)) \n",
    "\n",
    "def update_theta(theta, X, y, lamda=None):\n",
    "    return theta - alpha * j_prime(theta, X, y, lamda)\n",
    "\n",
    "X_trans = tranformX(X)\n",
    "theta = init_theta(X_trans)\n",
    "\n",
    "alpha = 0.1\n",
    "tolerance = 0.00001\n",
    "prev_j = 10000\n",
    "lamda = None\n",
    "curr_j = j(theta, X_trans, y, lamda)\n",
    "\n",
    "counter = 0\n",
    "while(abs(curr_j - prev_j) > tolerance):\n",
    "    theta = update_theta(theta, X_trans, y, lamda)\n",
    "    prev_j = curr_j\n",
    "    curr_j = j(theta, X_trans, y, lamda)\n",
    "    if counter%20==0:\n",
    "        print(curr_j)\n",
    "    counter += 1"
   ]
  },
  {
   "cell_type": "code",
   "execution_count": null,
   "metadata": {
    "collapsed": false,
    "deletable": true,
    "editable": true
   },
   "outputs": [],
   "source": [
    "x1, x2 = np.mgrid[-1.1:1.2:.01, -1.1:1.2:.01]\n",
    "grid = np.c_[x1.ravel(), x2.ravel()]\n",
    "grid = tranformX(grid, False)"
   ]
  },
  {
   "cell_type": "code",
   "execution_count": null,
   "metadata": {
    "collapsed": false,
    "deletable": true,
    "editable": true
   },
   "outputs": [],
   "source": [
    "probs = h(grid, theta).reshape(x1.shape)"
   ]
  },
  {
   "cell_type": "code",
   "execution_count": null,
   "metadata": {
    "collapsed": false,
    "deletable": true,
    "editable": true
   },
   "outputs": [],
   "source": [
    "f, ax = plt.subplots(figsize=(8, 6))\n",
    "ax.contourf(x1, x2, probs, 10, cmap=\"RdBu\", vmin=0, vmax=1, color='b')\n",
    "ax.contour(x1, x2, np.round(probs), vmin=0, vmax=1, color='black')\n",
    "plt.scatter(X_trans[np.where(y==1), 1], X_trans[np.where(y==1), 2], edgecolors='white')\n",
    "plt.scatter(X_trans[np.where(y==0), 1], X_trans[np.where(y==0), 2], edgecolors='white')\n",
    "plt.show()"
   ]
  },
  {
   "cell_type": "code",
   "execution_count": null,
   "metadata": {
    "collapsed": false,
    "deletable": true,
    "editable": true
   },
   "outputs": [],
   "source": [
    "f, ax = plt.subplots(figsize=(8, 6))\n",
    "ax.contourf(x1, x2, probs, 10, cmap=\"RdBu\", vmin=0, vmax=1, color='b')\n",
    "ax.contour(x1, x2, np.round(probs), vmin=0, vmax=1, color='black')\n",
    "plt.scatter(X_trans[np.where(y==1), 1], X_trans[np.where(y==1), 2], edgecolors='white')\n",
    "plt.scatter(X_trans[np.where(y==0), 1], X_trans[np.where(y==0), 2], edgecolors='white')\n",
    "plt.show()"
   ]
  },
  {
   "cell_type": "code",
   "execution_count": null,
   "metadata": {
    "collapsed": true,
    "deletable": true,
    "editable": true
   },
   "outputs": [],
   "source": []
  },
  {
   "cell_type": "code",
   "execution_count": null,
   "metadata": {
    "collapsed": true,
    "deletable": true,
    "editable": true
   },
   "outputs": [],
   "source": []
  }
 ],
 "metadata": {
  "kernelspec": {
   "display_name": "Python 3",
   "language": "python",
   "name": "python3"
  },
  "language_info": {
   "codemirror_mode": {
    "name": "ipython",
    "version": 3
   },
   "file_extension": ".py",
   "mimetype": "text/x-python",
   "name": "python",
   "nbconvert_exporter": "python",
   "pygments_lexer": "ipython3",
   "version": "3.5.2"
  }
 },
 "nbformat": 4,
 "nbformat_minor": 2
}
