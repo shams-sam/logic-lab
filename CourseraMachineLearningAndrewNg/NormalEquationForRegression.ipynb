{
 "cells": [
  {
   "cell_type": "code",
   "execution_count": 1,
   "metadata": {
    "collapsed": false,
    "deletable": true,
    "editable": true
   },
   "outputs": [
    {
     "data": {
      "image/png": "[encoded data removed]",
      "text/plain": [
       "<matplotlib.figure.Figure at 0x1047a8b00>"
      ]
     },
     "metadata": {},
     "output_type": "display_data"
    }
   ],
   "source": [
    "import matplotlib.pyplot as plt\n",
    "import numpy as np\n",
    "\n",
    "\"\"\"\n",
    "Dummy Data for Linear Regression\n",
    "\"\"\"\n",
    "data = [(1, 1), (2, 2), (3, 4), (4, 3), (5, 5.5), (6, 8), (7, 6), (8, 8.4), (9, 10), (5, 4)]    \n",
    "\n",
    "\"\"\"\n",
    "Matrix Operations\n",
    "\"\"\"\n",
    "inv = np.linalg.inv\n",
    "mul = np.matmul\n",
    "X = []\n",
    "y = []\n",
    "for x_i, y_i in data:\n",
    "    X.append([1, x_i])\n",
    "    y.append(y_i)\n",
    "X = np.array(X)\n",
    "y = np.atleast_2d(y).T\n",
    "\n",
    "\"\"\"\n",
    "Theta Calculation Using equation (5)\n",
    "\"\"\"\n",
    "theta = mul(mul(inv(mul(X.T, X)), X.T), y)\n",
    "\n",
    "\"\"\"\n",
    "Prediction of y using theta\n",
    "\"\"\"\n",
    "y_pred = np.matmul(X, theta)\n",
    "\n",
    "\"\"\"\n",
    "Plot Graph\n",
    "\"\"\"\n",
    "plt.scatter([i[0] for i in data], [i[1] for i in data])\n",
    "plt.plot([i[0] for i in data], y_pred, 'r')\n",
    "plt.title('Regression using Normal Equation')\n",
    "plt.xlabel('x')\n",
    "plt.ylabel('y')\n",
    "plt.show()"
   ]
  },
  {
   "cell_type": "code",
   "execution_count": null,
   "metadata": {
    "collapsed": true
   },
   "outputs": [],
   "source": []
  }
 ],
 "metadata": {
  "kernelspec": {
   "display_name": "Python 3",
   "language": "python",
   "name": "python3"
  },
  "language_info": {
   "codemirror_mode": {
    "name": "ipython",
    "version": 3
   },
   "file_extension": ".py",
   "mimetype": "text/x-python",
   "name": "python",
   "nbconvert_exporter": "python",
   "pygments_lexer": "ipython3",
   "version": "3.5.2"
  }
 },
 "nbformat": 4,
 "nbformat_minor": 2
}
