{
 "cells": [
  {
   "cell_type": "code",
   "execution_count": null,
   "metadata": {
    "collapsed": true
   },
   "outputs": [],
   "source": [
    "import matplotlib.pyplot as plt\n",
    "import numpy as np\n",
    "import math\n",
    "\n",
    "\"\"\"\n",
    "Dummy Data for Linear Regression\n",
    "\"\"\"\n",
    "data = [(1, 1), (2, 2), (3, 4), (4, 3), (5, 5.5), (6, 8), (7, 6), (8, 8.4), (9, 10), (5, 4)]    \n",
    "\n",
    "def update_features(x_i):\n",
    "    x = []\n",
    "    for i in range(order_of_regression+1):\n",
    "        x.append(math.pow(x_i, i+1))\n",
    "    return x\n",
    "\n",
    "\"\"\"\n",
    "Matrix Operations\n",
    "\"\"\"\n",
    "inv = np.linalg.inv\n",
    "mul = np.matmul\n",
    "order_of_regression = 15\n",
    "X = []\n",
    "y = []\n",
    "for x_i, y_i in data:\n",
    "    X.append(update_features(x_i))\n",
    "    y.append(y_i)\n",
    "X = np.array(X)\n",
    "y = np.atleast_2d(y).T"
   ]
  },
  {
   "cell_type": "code",
   "execution_count": null,
   "metadata": {
    "collapsed": false
   },
   "outputs": [],
   "source": [
    "\"\"\"\n",
    "Theta Calculation Using equation (5)\n",
    "\"\"\"\n",
    "theta = mul(mul(inv(mul(X.T, X)), X.T), y)\n",
    "\n",
    "def h(x, theta):\n",
    "    return np.matmul(theta.T, x)[0][0]\n",
    "\n",
    "x_range = np.linspace(0, 10, 100).tolist()\n",
    "\n",
    "y_pred = [h(np.atleast_2d(update_features(i)).T, theta) for i in x_range]"
   ]
  },
  {
   "cell_type": "code",
   "execution_count": null,
   "metadata": {
    "collapsed": false
   },
   "outputs": [],
   "source": [
    "L = np.identity(order_of_regression+1)\n",
    "L[0][0] = 0"
   ]
  },
  {
   "cell_type": "code",
   "execution_count": null,
   "metadata": {
    "collapsed": true,
    "deletable": true,
    "editable": true
   },
   "outputs": [],
   "source": [
    "reg_theta = mul(mul(inv(mul(X.T, X) + 1000000000 * L), X.T), y)"
   ]
  },
  {
   "cell_type": "code",
   "execution_count": null,
   "metadata": {
    "collapsed": true
   },
   "outputs": [],
   "source": [
    "x_range = np.linspace(0, 10, 100).tolist()\n",
    "\n",
    "reg_y_pred = [h(np.atleast_2d(update_features(i)).T, reg_theta) for i in x_range]"
   ]
  },
  {
   "cell_type": "code",
   "execution_count": null,
   "metadata": {
    "collapsed": false
   },
   "outputs": [],
   "source": [
    "tmp, ax = plt.subplots()\n",
    "plt.scatter([i[0] for i in data], [i[1] for i in data])\n",
    "r, = plt.plot(x_range, y_pred, 'r', label = 'Not Regularized')\n",
    "b, = plt.plot(x_range, reg_y_pred, 'b', label = 'Regularized')\n",
    "plt.legend([r, b], ['Not Regularized' , 'Regularized'])\n",
    "plt.title('Regularization for Normal Equation')\n",
    "ax.set_xlim(-1, 10)\n",
    "ax.set_ylim(-30000, 10000)\n",
    "plt.xlabel('x')\n",
    "plt.ylabel('y')\n",
    "plt.show()"
   ]
  }
 ],
 "metadata": {
  "kernelspec": {
   "display_name": "Python 3",
   "language": "python",
   "name": "python3"
  },
  "language_info": {
   "codemirror_mode": {
    "name": "ipython",
    "version": 3
   },
   "file_extension": ".py",
   "mimetype": "text/x-python",
   "name": "python",
   "nbconvert_exporter": "python",
   "pygments_lexer": "ipython3",
   "version": "3.5.2"
  }
 },
 "nbformat": 4,
 "nbformat_minor": 2
}
