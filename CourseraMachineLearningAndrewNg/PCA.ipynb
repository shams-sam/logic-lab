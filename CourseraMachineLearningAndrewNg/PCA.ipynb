{
 "cells": [
  {
   "cell_type": "markdown",
   "metadata": {},
   "source": [
    "# imports"
   ]
  },
  {
   "cell_type": "code",
   "execution_count": null,
   "metadata": {},
   "outputs": [],
   "source": [
    "import matplotlib.pyplot as plt\n",
    "import numpy as np\n",
    "from sklearn.decomposition import PCA"
   ]
  },
  {
   "cell_type": "code",
   "execution_count": null,
   "metadata": {},
   "outputs": [],
   "source": [
    "X = np.zeros((50, 2))\n",
    "X[:, 0] = np.linspace(0, 50)\n",
    "X[:, 1] = X[:, 0]\n",
    "X = X + 5*np.random.randn(X.shape[0], X.shape[1])"
   ]
  },
  {
   "cell_type": "code",
   "execution_count": null,
   "metadata": {},
   "outputs": [],
   "source": [
    "plt.scatter(X[:, 0], X[:, 1], c='g', alpha='0.5')\n",
    "plt.xlabel('x1')\n",
    "plt.xlabel('x2')\n",
    "plt.axis('scaled')\n",
    "plt.show()"
   ]
  },
  {
   "cell_type": "markdown",
   "metadata": {},
   "source": [
    "# PCA"
   ]
  },
  {
   "cell_type": "code",
   "execution_count": null,
   "metadata": {},
   "outputs": [],
   "source": [
    "pca = PCA(2)\n",
    "pca_reduce = PCA(1)\n",
    "X_proj = pca_reduce.fit_transform(X)\n",
    "X_rebuild = pca_reduce.inverse_transform(X_proj)\n",
    "X_proj = pca.fit_transform(X)"
   ]
  },
  {
   "cell_type": "code",
   "execution_count": null,
   "metadata": {},
   "outputs": [],
   "source": [
    "plt.figure(figsize=(7, 7))\n",
    "\n",
    "# plot data and projection\n",
    "plt.scatter(X[:,0], X[:, 1], alpha=0.5, c='green')\n",
    "plt.scatter(X_rebuild[:, 0], X_rebuild[:, 1], alpha=0.3, c='r')\n",
    "\n",
    "# plot the components\n",
    "# scaled to the length of their variance i.e. eigenvalues\n",
    "soa = np.hstack((\n",
    "    np.ones(pca.components_.shape) * pca.mean_, \n",
    "    pca.components_ * np.atleast_2d(\n",
    "        np.sqrt(pca.explained_variance_)\n",
    "    ).transpose()\n",
    "))\n",
    "x, y, u, v = zip(*soa)\n",
    "\n",
    "ax = plt.gca()\n",
    "ax.quiver(\n",
    "    x, y, u, v, \n",
    "    angles='xy', \n",
    "    scale_units='xy', \n",
    "    scale=0.5, \n",
    "    color='rb'\n",
    ")\n",
    "plt.axis('scaled')\n",
    "plt.draw()\n",
    "\n",
    "plt.legend([\n",
    "    'original', \n",
    "    'projection'\n",
    "])\n",
    "\n",
    "# plot the projection errors\n",
    "for p_orig, p_proj in zip(X, X_rebuild):\n",
    "    plt.plot([p_orig[0], p_proj[0]], [p_orig[1], p_proj[1]], c='g', alpha=0.3)\n",
    "    \n",
    "plt.show()"
   ]
  },
  {
   "cell_type": "markdown",
   "metadata": {},
   "source": [
    "# PCA vs Linear Regression"
   ]
  },
  {
   "cell_type": "code",
   "execution_count": null,
   "metadata": {},
   "outputs": [],
   "source": [
    "from sklearn.linear_model import LinearRegression"
   ]
  },
  {
   "cell_type": "code",
   "execution_count": null,
   "metadata": {},
   "outputs": [],
   "source": [
    "lin_reg = LinearRegression()\n",
    "lin_reg.fit(X[:,0].reshape(-1, 1), X[:, 1])\n",
    "y_pred = X[:,0] * lin_reg.coef_"
   ]
  },
  {
   "cell_type": "code",
   "execution_count": null,
   "metadata": {},
   "outputs": [],
   "source": [
    "plt.figure(figsize=(7, 7))\n",
    "\n",
    "# plot data and projection\n",
    "plt.scatter(X[:,0], X[:, 1], alpha=0.5, c='green')\n",
    "plt.scatter(X_rebuild[:, 0], X_rebuild[:, 1], alpha=0.3, c='r')\n",
    "plt.scatter(X[:,0], y_pred, alpha=0.5, c='blue')\n",
    "\n",
    "# plot the projection errors\n",
    "for p_orig, p_proj in zip(X, X_rebuild):\n",
    "    plt.plot([p_orig[0], p_proj[0]], [p_orig[1], p_proj[1]], c='r', alpha=0.3)\n",
    "\n",
    "# plot the prediction errors\n",
    "for p_orig, y in zip(X, np.hstack((X[:,0].reshape(-1, 1), y_pred.reshape(-1, 1)))):\n",
    "    plt.plot([p_orig[0], y[0]], [p_orig[1], y[1]], c='b', alpha=0.3)\n"
   ]
  }
 ],
 "metadata": {
  "kernelspec": {
   "display_name": "Python 3",
   "language": "python",
   "name": "python3"
  },
  "language_info": {
   "codemirror_mode": {
    "name": "ipython",
    "version": 3
   },
   "file_extension": ".py",
   "mimetype": "text/x-python",
   "name": "python",
   "nbconvert_exporter": "python",
   "pygments_lexer": "ipython3",
   "version": "3.6.3"
  }
 },
 "nbformat": 4,
 "nbformat_minor": 2
}
