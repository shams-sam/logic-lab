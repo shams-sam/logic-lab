{
 "cells": [
  {
   "cell_type": "code",
   "execution_count": 1,
   "metadata": {
    "collapsed": true,
    "slideshow": {
     "slide_type": "-"
    }
   },
   "outputs": [],
   "source": [
    "import copy, numpy as np\n",
    "np.random.seed(0)\n",
    "\n",
    "def sigmoid(x):\n",
    "    output = 1/(1+np.exp(-x))\n",
    "    return output\n",
    "\n",
    "def sigmoid_output_to_derivative(output):\n",
    "    return output*(1-output)"
   ]
  },
  {
   "cell_type": "code",
   "execution_count": 2,
   "metadata": {
    "collapsed": true
   },
   "outputs": [],
   "source": [
    "int2binary = {}\n",
    "binary_dim = 8\n",
    "\n",
    "\n",
    "largest_number = pow(2,binary_dim)\n",
    "binary = np.unpackbits(\n",
    "    np.array([range(largest_number)],dtype=np.uint8).T,axis=1)\n",
    "for i in range(largest_number):\n",
    "    int2binary[i] = binary[i]\n",
    "\n",
    "alpha = 0.1\n",
    "input_dim = 2\n",
    "hidden_dim = 16\n",
    "output_dim = 1\n",
    "\n",
    "synapse_0 = 2*np.random.random((input_dim,hidden_dim)) - 1\n",
    "synapse_1 = 2*np.random.random((hidden_dim,output_dim)) - 1\n",
    "synapse_h = 2*np.random.random((hidden_dim,hidden_dim)) - 1\n",
    "\n",
    "synapse_0_update = np.zeros_like(synapse_0)\n",
    "synapse_1_update = np.zeros_like(synapse_1)\n",
    "synapse_h_update = np.zeros_like(synapse_h)"
   ]
  },
  {
   "cell_type": "code",
   "execution_count": 3,
   "metadata": {
    "collapsed": false
   },
   "outputs": [
    {
     "name": "stdout",
     "output_type": "stream",
     "text": [
      "Error:[ 0.3269932]\tPred:[1 0 0 0 1 0 0 0]\tTrue:[1 0 0 0 1 0 0 0]\n",
      "74 + 62 = 136\n",
      "------------\n",
      "Error:[ 0.19395382]\tPred:[1 0 1 0 1 1 1 1]\tTrue:[1 0 1 0 1 1 1 1]\n",
      "108 + 67 = 175\n",
      "------------\n",
      "Error:[ 0.16259731]\tPred:[1 0 0 0 1 1 1 1]\tTrue:[1 0 0 0 1 1 1 1]\n",
      "78 + 65 = 143\n",
      "------------\n",
      "Error:[ 0.15228023]\tPred:[1 0 0 1 0 1 1 0]\tTrue:[1 0 0 1 0 1 1 0]\n",
      "36 + 114 = 150\n",
      "------------\n",
      "Error:[ 0.16289552]\tPred:[0 1 0 1 0 0 1 1]\tTrue:[0 1 0 1 0 0 1 1]\n",
      "24 + 59 = 83\n",
      "------------\n",
      "Error:[ 0.18106679]\tPred:[0 0 1 1 0 1 1 1]\tTrue:[0 0 1 1 0 1 1 1]\n",
      "8 + 47 = 55\n",
      "------------\n",
      "Error:[ 0.12223099]\tPred:[0 0 1 1 0 1 1 0]\tTrue:[0 0 1 1 0 1 1 0]\n",
      "23 + 31 = 54\n",
      "------------\n",
      "Error:[ 0.09986539]\tPred:[0 1 1 0 1 1 0 1]\tTrue:[0 1 1 0 1 1 0 1]\n",
      "36 + 73 = 109\n",
      "------------\n",
      "Error:[ 0.13762796]\tPred:[1 1 1 0 1 0 1 1]\tTrue:[1 1 1 0 1 0 1 1]\n",
      "114 + 121 = 235\n",
      "------------\n",
      "Error:[ 0.10310988]\tPred:[0 0 1 1 1 1 1 1]\tTrue:[0 0 1 1 1 1 1 1]\n",
      "6 + 57 = 63\n",
      "------------\n"
     ]
    }
   ],
   "source": [
    "for j in range(10000):\n",
    "    a_int = np.random.randint(largest_number/2)\n",
    "    a = int2binary[a_int]\n",
    "    b_int = np.random.randint(largest_number/2)\n",
    "    b = int2binary[b_int]\n",
    "    c_int = a_int + b_int\n",
    "    c = int2binary[c_int]\n",
    "\n",
    "    d = np.zeros_like(c)\n",
    "    overallError = 0\n",
    "\n",
    "    layer_2_deltas = list()\n",
    "    layer_1_values = list()\n",
    "    layer_1_values.append(np.zeros(hidden_dim))\n",
    "    for position in range(binary_dim):\n",
    "        X = np.array([[a[binary_dim - position - 1],b[binary_dim - position - 1]]])\n",
    "        y = np.array([[c[binary_dim - position - 1]]]).T\n",
    "        layer_1 = sigmoid(np.dot(X,synapse_0) + np.dot(layer_1_values[-1],synapse_h))\n",
    "        layer_2 = sigmoid(np.dot(layer_1,synapse_1))\n",
    "\n",
    "        layer_2_error = y - layer_2\n",
    "        layer_2_deltas.append((layer_2_error)*sigmoid_output_to_derivative(layer_2))\n",
    "        overallError += np.abs(layer_2_error[0])\n",
    "    \n",
    "        d[binary_dim - position - 1] = np.round(layer_2[0][0])\n",
    "        layer_1_values.append(copy.deepcopy(layer_1))\n",
    "\n",
    "    future_layer_1_delta = np.zeros(hidden_dim)\n",
    "    for position in range(binary_dim):\n",
    "        X = np.array([[a[position],b[position]]])\n",
    "        layer_1 = layer_1_values[-position-1]\n",
    "        prev_layer_1 = layer_1_values[-position-2]\n",
    "        \n",
    "        layer_2_delta = layer_2_deltas[-position-1]\n",
    "        layer_1_delta = (future_layer_1_delta.dot(synapse_h.T) + layer_2_delta.dot(synapse_1.T)) * sigmoid_output_to_derivative(layer_1)\n",
    "\n",
    "        synapse_1_update += np.atleast_2d(layer_1).T.dot(layer_2_delta)\n",
    "        synapse_h_update += np.atleast_2d(prev_layer_1).T.dot(layer_1_delta)\n",
    "        synapse_0_update += X.T.dot(layer_1_delta)\n",
    "        \n",
    "        future_layer_1_delta = layer_1_delta\n",
    "    synapse_0 += synapse_0_update * alpha\n",
    "    synapse_1 += synapse_1_update * alpha\n",
    "    synapse_h += synapse_h_update * alpha    \n",
    "\n",
    "    synapse_0_update *= 0\n",
    "    synapse_1_update *= 0\n",
    "    synapse_h_update *= 0\n",
    "    \n",
    "    if(j % 1000 == 0):\n",
    "        print(\"Error:{}\\tPred:{}\\tTrue:{}\".format(str(overallError),\n",
    "                                                  str(d),\n",
    "                                                  str(c)))\n",
    "        out = 0\n",
    "        for index,x in enumerate(reversed(d)):\n",
    "            out += x*pow(2,index)\n",
    "        print(str(a_int) + \" + \" + str(b_int) + \" = \" + str(out))\n",
    "        print(\"------------\")\n"
   ]
  },
  {
   "cell_type": "code",
   "execution_count": null,
   "metadata": {
    "collapsed": true
   },
   "outputs": [],
   "source": []
  }
 ],
 "metadata": {
  "kernelspec": {
   "display_name": "Python 3",
   "language": "python",
   "name": "python3"
  },
  "language_info": {
   "codemirror_mode": {
    "name": "ipython",
    "version": 3
   },
   "file_extension": ".py",
   "mimetype": "text/x-python",
   "name": "python",
   "nbconvert_exporter": "python",
   "pygments_lexer": "ipython3",
   "version": "3.6.0"
  }
 },
 "nbformat": 4,
 "nbformat_minor": 2
}
