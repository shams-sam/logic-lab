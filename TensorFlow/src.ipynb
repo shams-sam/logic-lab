{
 "cells": [
  {
   "cell_type": "markdown",
   "metadata": {
    "collapsed": true,
    "deletable": true,
    "editable": true
   },
   "source": [
    "# check devices on system"
   ]
  },
  {
   "cell_type": "code",
   "execution_count": null,
   "metadata": {
    "collapsed": false,
    "deletable": true,
    "editable": true
   },
   "outputs": [],
   "source": [
    "from tensorflow.python.client import device_lib\n",
    "device_lib.list_local_devices()"
   ]
  },
  {
   "cell_type": "markdown",
   "metadata": {
    "deletable": true,
    "editable": true
   },
   "source": [
    "# tensor initialization"
   ]
  },
  {
   "cell_type": "code",
   "execution_count": null,
   "metadata": {
    "collapsed": false,
    "deletable": true,
    "editable": true
   },
   "outputs": [],
   "source": [
    "import tensorflow as tf\n",
    "a = tf.constant(3.0, \n",
    "                dtype=tf.float32, \n",
    "                name='a')\n",
    "b = tf.constant(4.0, \n",
    "                name='b')\n",
    "total = a + b\n",
    "print(a)\n",
    "print(b)\n",
    "print(total)"
   ]
  },
  {
   "cell_type": "code",
   "execution_count": null,
   "metadata": {
    "collapsed": false,
    "deletable": true,
    "editable": true
   },
   "outputs": [],
   "source": [
    "sess = tf.Session()\n",
    "sess.run([a, b])\n",
    "sess.run(total)"
   ]
  },
  {
   "cell_type": "code",
   "execution_count": null,
   "metadata": {
    "collapsed": false,
    "deletable": true,
    "editable": true
   },
   "outputs": [],
   "source": [
    "sess.run({'a,b': (a, b), 'total': total})"
   ]
  },
  {
   "cell_type": "markdown",
   "metadata": {
    "deletable": true,
    "editable": true
   },
   "source": [
    "# tensor values within session"
   ]
  },
  {
   "cell_type": "code",
   "execution_count": null,
   "metadata": {
    "collapsed": false,
    "deletable": true,
    "editable": true
   },
   "outputs": [],
   "source": [
    "vec = tf.random_uniform(shape=(3,))\n",
    "out1 = vec + 1\n",
    "out2 = vec + 2\n",
    "print(sess.run(vec))\n",
    "print(sess.run(vec))\n",
    "print(sess.run((out1, out2)))"
   ]
  },
  {
   "cell_type": "markdown",
   "metadata": {
    "deletable": true,
    "editable": true
   },
   "source": [
    "# save session and tensorboard initialization"
   ]
  },
  {
   "cell_type": "code",
   "execution_count": null,
   "metadata": {
    "collapsed": false,
    "deletable": true,
    "editable": true
   },
   "outputs": [],
   "source": [
    "tf.summary.FileWriter('./', sess.graph)\n",
    "# tensorboard --logdir=./"
   ]
  },
  {
   "cell_type": "code",
   "execution_count": null,
   "metadata": {
    "collapsed": false,
    "deletable": true,
    "editable": true
   },
   "outputs": [],
   "source": [
    "writer = tf.summary.FileWriter('.')\n",
    "writer.add_graph(tf.get_default_graph())"
   ]
  },
  {
   "cell_type": "markdown",
   "metadata": {
    "deletable": true,
    "editable": true
   },
   "source": [
    "# placeholder and input feeding"
   ]
  },
  {
   "cell_type": "code",
   "execution_count": null,
   "metadata": {
    "collapsed": false,
    "deletable": true,
    "editable": true
   },
   "outputs": [],
   "source": [
    "a = tf.placeholder(tf.float32, name='a')\n",
    "b = tf.placeholder(tf.float32, name='b')\n",
    "z = a+b\n",
    "\n",
    "sess = tf.Session()\n",
    "print(sess.run(z, {a: 3, b: 4}))\n",
    "print(sess.run(z, feed_dict={a: [1, 2, 3], b: [4, 5, 6]}))\n",
    "tf.summary.FileWriter('./', sess.graph)"
   ]
  },
  {
   "cell_type": "markdown",
   "metadata": {
    "deletable": true,
    "editable": true
   },
   "source": [
    "# datasets"
   ]
  },
  {
   "cell_type": "code",
   "execution_count": null,
   "metadata": {
    "collapsed": false,
    "deletable": true,
    "editable": true
   },
   "outputs": [],
   "source": [
    "data = [\n",
    "    [0, 1,],\n",
    "    [2, 3,],\n",
    "    [4, 5,],\n",
    "    [6, 7,],\n",
    "]\n",
    "slices = tf.data.Dataset.from_tensor_slices(data)\n",
    "next_item = slices.make_one_shot_iterator().get_next()\n",
    "while True:\n",
    "  try:\n",
    "    print(sess.run(next_item))\n",
    "  except tf.errors.OutOfRangeError:\n",
    "    break"
   ]
  },
  {
   "cell_type": "code",
   "execution_count": null,
   "metadata": {
    "collapsed": false,
    "deletable": true,
    "editable": true
   },
   "outputs": [],
   "source": [
    "dataset1.get_next()"
   ]
  },
  {
   "cell_type": "code",
   "execution_count": null,
   "metadata": {
    "collapsed": true,
    "deletable": true,
    "editable": true
   },
   "outputs": [],
   "source": [
    "def print_dtype(input_data, print_string=\"\", key=None):\n",
    "    if type(input_data) == tuple:\n",
    "        print_string += \"(\"\n",
    "        for _ in input_data:\n",
    "            print_string = print_dtype(_, print_string)\n",
    "        print_string += \")\"\n",
    "    elif type(input_data) == dict:\n",
    "        print_string += \"(\"\n",
    "        for idx, _ in input_data.items():\n",
    "            print_string = print_dtype(_, print_string, idx)\n",
    "        print_string += \")\"\n",
    "    else:\n",
    "        if key:\n",
    "            print_string += key + \":\" + str(input_data.dtype) + \", \"\n",
    "        else:\n",
    "            print_string += str(input_data.dtype) + \", \"\n",
    "    return print_string\n",
    "\n",
    "def print_dimension(input_data, print_string=\"\", key=None):\n",
    "    if type(input_data) == tuple:\n",
    "        print_string += \"(\"\n",
    "        for _ in input_data:\n",
    "            print_string = print_dimension(_, print_string)\n",
    "        print_string += \")\"\n",
    "    elif type(input_data) == dict:\n",
    "        print_string += \"(\"\n",
    "        for idx, _ in input_data.items():\n",
    "            print_string = print_dimension(_, print_string, idx)\n",
    "        print_string += \")\"\n",
    "    else:\n",
    "        if key:\n",
    "            print_string += key + \":\" + str(input_data.get_shape()) + \", \"\n",
    "        else:\n",
    "            print_string += str(input_data.get_shape()) + \", \"\n",
    "    return print_string\n",
    "\n"
   ]
  },
  {
   "cell_type": "code",
   "execution_count": null,
   "metadata": {
    "collapsed": false,
    "deletable": true,
    "editable": true
   },
   "outputs": [],
   "source": [
    "print_dtype(element2)"
   ]
  },
  {
   "cell_type": "code",
   "execution_count": null,
   "metadata": {
    "collapsed": false,
    "deletable": true,
    "editable": true
   },
   "outputs": [],
   "source": [
    "dataset1 = tf.data.Dataset.from_tensor_slices(tf.random_uniform([4, 10]))\n",
    "element1 = dataset1.make_initializable_iterator().get_next()\n",
    "print(\"dataset1:\")\n",
    "print(\"\\t\", print_dtype(element1))\n",
    "print(\"\\t\", print_dimension(element1))\n",
    "print(\"\\t\", dataset1.output_types)\n",
    "print(\"\\t\", dataset1.output_shapes)\n",
    "\n",
    "dataset2 = tf.data.Dataset.from_tensor_slices(\n",
    "   {'first': tf.random_uniform([4]),\n",
    "    'second': tf.random_uniform([4, 100], maxval=100, dtype=tf.int32)})\n",
    "element2 = dataset2.make_initializable_iterator().get_next()\n",
    "print(\"dataset2:\")\n",
    "print(\"\\t\", print_dtype(element2))\n",
    "print(\"\\t\", print_dimension(element2))\n",
    "print(\"\\t\", dataset2.output_types)\n",
    "print(\"\\t\", dataset2.output_shapes)\n",
    "\n",
    "dataset3 = tf.data.Dataset.zip({'d1': dataset1, 'd2' : dataset2})\n",
    "element3 = dataset3.make_initializable_iterator().get_next()\n",
    "print(\"dataset3:\")\n",
    "print(\"\\t\", print_dtype(element3))\n",
    "print(\"\\t\", print_dimension(element3))\n",
    "print(\"\\t\", dataset3.output_types)\n",
    "print(\"\\t\", dataset3.output_shapes)\n"
   ]
  },
  {
   "cell_type": "code",
   "execution_count": null,
   "metadata": {
    "collapsed": false,
    "deletable": true,
    "editable": true
   },
   "outputs": [],
   "source": [
    "max_value = tf.placeholder(tf.int64, shape=[])\n",
    "dataset = tf.data.Dataset.range(max_value)\n",
    "iterator = dataset.make_initializable_iterator()\n",
    "next_element = iterator.get_next()\n",
    "\n",
    "sess.run(iterator.initializer, feed_dict={max_value: 10})\n",
    "for i in range(10):\n",
    "  value = sess.run(next_element)\n",
    "  assert i == value"
   ]
  },
  {
   "cell_type": "code",
   "execution_count": null,
   "metadata": {
    "collapsed": false,
    "deletable": true,
    "editable": true
   },
   "outputs": [],
   "source": [
    "# two different datasets with same structure\n",
    "training_dataset = tf.data.Dataset.range(100).map(\n",
    "    lambda x: x + tf.random_uniform([], -10, 10, tf.int64))\n",
    "validation_dataset = tf.data.Dataset.range(50)\n",
    "\n",
    "# define the iterator using the structure property\n",
    "iterator = tf.data.Iterator.from_structure(training_dataset.output_types,\n",
    "                                           training_dataset.output_shapes)\n",
    "next_element = iterator.get_next()\n",
    "\n",
    "training_init = iterator.make_initializer(training_dataset)\n",
    "validation_init = iterator.make_initializer(validation_dataset)\n",
    "\n",
    "# initialize for training set\n",
    "sess.run(training_init)\n",
    "sess.run(next_element)\n",
    "\n",
    "# reinitialize for validation set\n",
    "sess.run(validation_init)\n",
    "sess.run(next_element)"
   ]
  },
  {
   "cell_type": "markdown",
   "metadata": {
    "deletable": true,
    "editable": true
   },
   "source": [
    "# session run"
   ]
  },
  {
   "cell_type": "code",
   "execution_count": null,
   "metadata": {
    "collapsed": false,
    "deletable": true,
    "editable": true
   },
   "outputs": [],
   "source": [
    "import collections\n",
    "a = tf.constant([10, 20], name='a')\n",
    "b = tf.constant([1.0, 2.0], name='b')\n",
    "v = sess.run(a)\n",
    "v"
   ]
  },
  {
   "cell_type": "code",
   "execution_count": null,
   "metadata": {
    "collapsed": false,
    "deletable": true,
    "editable": true
   },
   "outputs": [],
   "source": [
    "v = sess.run([a, b])\n",
    "v"
   ]
  },
  {
   "cell_type": "code",
   "execution_count": null,
   "metadata": {
    "collapsed": false,
    "deletable": true,
    "editable": true
   },
   "outputs": [],
   "source": [
    "print(b)"
   ]
  },
  {
   "cell_type": "code",
   "execution_count": null,
   "metadata": {
    "collapsed": false,
    "deletable": true,
    "editable": true
   },
   "outputs": [],
   "source": [
    "data = collections.namedtuple('MyData', ['a', 'b'])\n",
    "v = sess.run({'k1': data(a, b), 'k2': [b, a]})\n",
    "print(v)"
   ]
  },
  {
   "cell_type": "markdown",
   "metadata": {
    "deletable": true,
    "editable": true
   },
   "source": [
    "# Layers"
   ]
  },
  {
   "cell_type": "code",
   "execution_count": null,
   "metadata": {
    "collapsed": false,
    "deletable": true,
    "editable": true
   },
   "outputs": [],
   "source": [
    "import tensorflow as tf\n",
    "x = tf.placeholder(tf.float32, shape=[None, 3], name='x')\n",
    "linear_model = tf.layers.Dense(units=1, name='dense_layer')\n",
    "y = linear_model(x)\n",
    "init = tf.global_variables_initializer()\n",
    "sess = tf.Session()\n",
    "sess.run(init)\n",
    "sess.run(y, {x: [[1, 2, 3],[4, 5, 6]]})"
   ]
  },
  {
   "cell_type": "code",
   "execution_count": null,
   "metadata": {
    "collapsed": false,
    "deletable": true,
    "editable": true
   },
   "outputs": [],
   "source": [
    "tf.summary.FileWriter('./', sess.graph)"
   ]
  },
  {
   "cell_type": "markdown",
   "metadata": {
    "deletable": true,
    "editable": true
   },
   "source": [
    "# Feature Column"
   ]
  },
  {
   "cell_type": "code",
   "execution_count": null,
   "metadata": {
    "collapsed": false,
    "deletable": true,
    "editable": true
   },
   "outputs": [],
   "source": [
    "features = {\n",
    "    'sales' : [[5], [10], [8], [9]],\n",
    "    'department': ['sports', 'sports', 'gardening', 'gardening']}\n",
    "\n",
    "department_column = tf.feature_column.categorical_column_with_vocabulary_list(\n",
    "        'department', ['sports', 'gardening'])\n",
    "department_column = tf.feature_column.indicator_column(department_column)\n",
    "\n",
    "columns = [\n",
    "    tf.feature_column.numeric_column('sales'),\n",
    "    department_column\n",
    "]\n",
    "\n",
    "inputs = tf.feature_column.input_layer(features, columns)\n",
    "\n",
    "var_init = tf.global_variables_initializer()\n",
    "table_init = tf.tables_initializer()\n",
    "sess = tf.Session()\n",
    "sess.run((var_init, table_init))\n",
    "print(sess.run(inputs))"
   ]
  },
  {
   "cell_type": "markdown",
   "metadata": {
    "deletable": true,
    "editable": true
   },
   "source": [
    "# Training"
   ]
  },
  {
   "cell_type": "code",
   "execution_count": null,
   "metadata": {
    "collapsed": false,
    "deletable": true,
    "editable": true,
    "scrolled": true
   },
   "outputs": [],
   "source": [
    "import tensorflow as tf\n",
    "# define data and labels\n",
    "x = tf.constant([[1], [2], [3], [4]], dtype=tf.float32, name='input')\n",
    "y_true = tf.constant([[2], [4], [6], [8]], dtype=tf.float32, name='actuals')\n",
    "\n",
    "# get model output\n",
    "linear_model = tf.layers.Dense(units=1, name='dense_layer')\n",
    "y_pred = linear_model(x)\n",
    "\n",
    "# initialize session and variable\n",
    "sess = tf.Session()\n",
    "init = tf.global_variables_initializer()\n",
    "sess.run(init)\n",
    "\n",
    "# extract model output\n",
    "sess.run(y_pred)\n",
    "\n",
    "# define loss\n",
    "loss = tf.losses.mean_squared_error(\n",
    "    labels=y_true, \n",
    "    predictions=y_pred)\n",
    "\n",
    "sess.run(loss)\n",
    "\n",
    "# define optimizer to minimize the loss\n",
    "optimizer = tf.train.GradientDescentOptimizer(0.01)\n",
    "train = optimizer.minimize(loss)\n",
    "\n",
    "for i in range(100):\n",
    "  _, loss_value = sess.run((train, loss))\n",
    "\n",
    "sess.run(y_pred)"
   ]
  },
  {
   "cell_type": "code",
   "execution_count": null,
   "metadata": {
    "collapsed": false,
    "deletable": true,
    "editable": true
   },
   "outputs": [],
   "source": [
    "tf.summary.FileWriter('./', sess.graph)"
   ]
  },
  {
   "cell_type": "code",
   "execution_count": null,
   "metadata": {
    "collapsed": true,
    "deletable": true,
    "editable": true
   },
   "outputs": [],
   "source": []
  }
 ],
 "metadata": {
  "kernelspec": {
   "display_name": "Python 3",
   "language": "python",
   "name": "python3"
  },
  "language_info": {
   "codemirror_mode": {
    "name": "ipython",
    "version": 3
   },
   "file_extension": ".py",
   "mimetype": "text/x-python",
   "name": "python",
   "nbconvert_exporter": "python",
   "pygments_lexer": "ipython3",
   "version": "3.5.2"
  }
 },
 "nbformat": 4,
 "nbformat_minor": 2
}
